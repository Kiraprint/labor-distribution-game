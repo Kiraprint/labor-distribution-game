{
 "cells": [
  {
   "cell_type": "markdown",
   "metadata": {},
   "source": [
    "# Agent Behavior Analysis\n",
    "\n",
    "This notebook is designed to analyze the behavior of agents in the labor distribution game. We will explore the decision-making processes of both level 1 and level 2 agents, their interactions, and the impact of their strategies on the overall game outcomes."
   ]
  },
  {
   "cell_type": "code",
   "execution_count": 1,
   "metadata": {
    "collapsed": false
   },
   "outputs": [],
   "source": [
    "# Import necessary libraries\n",
    "import numpy as np\n",
    "import pandas as pd\n",
    "import matplotlib.pyplot as plt\n",
    "import seaborn as sns\n",
    "\n",
    "# Set visualization style\n",
    "sns.set(style=\"whitegrid\")"
   ]
  },
  {
   "cell_type": "markdown",
   "metadata": {},
   "source": [
    "## Load Simulation Data\n",
    "\n",
    "We will load the simulation data generated from the labor distribution game to analyze agent behaviors."
   ]
  },
  {
   "cell_type": "code",
   "execution_count": 2,
   "metadata": {
    "collapsed": false
   },
   "outputs": [],
   "source": [
    "# Load the simulation data\n",
    "data = pd.read_csv('path_to_simulation_data.csv')\n",
    "data.head()"
   ]
  },
  {
   "cell_type": "markdown",
   "metadata": {},
   "source": [
    "## Analyze Level 1 Agent Behavior\n",
    "\n",
    "We will analyze the behavior of level 1 agents, focusing on their news generation and resource distribution strategies."
   ]
  },
  {
   "cell_type": "code",
   "execution_count": 3,
   "metadata": {
    "collapsed": false
   },
   "outputs": [],
   "source": [
    "# Filter data for level 1 agents\n",
    "level1_data = data[data['agent_level'] == 1]\n",
    "\n",
    "# Plot distribution of resources allocated by level 1 agents\n",
    "plt.figure(figsize=(12, 6))\n",
    "sns.histplot(level1_data['resources_allocated'], bins=30, kde=True)\n",
    "plt.title('Distribution of Resources Allocated by Level 1 Agents')\n",
    "plt.xlabel('Resources Allocated')\n",
    "plt.ylabel('Frequency')\n",
    "plt.show()"
   ]
  },
  {
   "cell_type": "markdown",
   "metadata": {},
   "source": [
    "## Analyze Level 2 Agent Behavior\n",
    "\n",
    "Next, we will analyze the behavior of level 2 agents, focusing on their decision-making processes based on received news."
   ]
  },
  {
   "cell_type": "code",
   "execution_count": 4,
   "metadata": {
    "collapsed": false
   },
   "outputs": [],
   "source": [
    "# Filter data for level 2 agents\n",
    "level2_data = data[data['agent_level'] == 2]\n",
    "\n",
    "# Plot decision-making outcomes for level 2 agents\n",
    "plt.figure(figsize=(12, 6))\n",
    "sns.countplot(x='decision', data=level2_data)\n",
    "plt.title('Decision-Making Outcomes of Level 2 Agents')\n",
    "plt.xlabel('Decision')\n",
    "plt.ylabel('Count')\n",
    "plt.xticks(rotation=45)\n",
    "plt.show()"
   ]
  },
  {
   "cell_type": "markdown",
   "metadata": {},
   "source": [
    "## Conclusion\n",
    "\n",
    "In this notebook, we analyzed the behavior of level 1 and level 2 agents in the labor distribution game. The visualizations provided insights into their strategies and decision-making processes, which can inform future improvements in agent design and game mechanics."
   ]
  }
 ],
 "metadata": {
  "kernelspec": {
   "display_name": "Python 3",
   "language": "python",
   "name": "python3"
  },
  "language_info": {
   "codemirror_mode": {
    "name": "ipython",
    "version": 3
   },
   "file_extension": ".py",
   "mimetype": "text/x-python",
   "name": "python",
   "nbconvert_exporter": "python",
   "pygments_lexer": "ipython3",
   "version": "3.8.5"
  }
 },
 "nbformat": 4,
 "nbformat_minor": 4
}