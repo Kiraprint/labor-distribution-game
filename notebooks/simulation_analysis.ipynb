{
 "cells": [
  {
   "cell_type": "markdown",
   "metadata": {},
   "source": [
    "# Simulation Analysis\n",
    "\n",
    "This notebook is used for analyzing the results of the labor distribution game simulation. It includes visualizations and metrics to evaluate the performance of agents and coalitions."
   ]
  },
  {
   "cell_type": "code",
   "execution_count": 1,
   "metadata": {
    "collapsed": false
   },
   "outputs": [],
   "source": [
    "import pandas as pd\n",
    "import matplotlib.pyplot as plt\n",
    "import seaborn as sns\n",
    "\n",
    "# Set the style for seaborn\n",
    "sns.set(style='whitegrid')"
   ]
  },
  {
   "cell_type": "markdown",
   "metadata": {},
   "source": [
    "## Load Simulation Results\n",
    "\n",
    "Load the results of the simulation from a CSV file or any other format used to store the results."
   ]
  },
  {
   "cell_type": "code",
   "execution_count": 2,
   "metadata": {
    "collapsed": false
   },
   "outputs": [],
   "source": [
    "# Load the simulation results\n",
    "results_df = pd.read_csv('simulation_results.csv')\n",
    "results_df.head()"
   ]
  },
  {
   "cell_type": "markdown",
   "metadata": {},
   "source": [
    "## Analyze Agent Performance\n",
    "\n",
    "Here we can analyze the performance of agents based on the simulation results."
   ]
  },
  {
   "cell_type": "code",
   "execution_count": 3,
   "metadata": {
    "collapsed": false
   },
   "outputs": [],
   "source": [
    "# Plotting the profits of agents over time\n",
    "plt.figure(figsize=(12, 6))\n",
    "sns.lineplot(data=results_df, x='iteration', y='agent_profit', hue='agent_id')\n",
    "plt.title('Agent Profits Over Time')\n",
    "plt.xlabel('Iteration')\n",
    "plt.ylabel('Profit')\n",
    "plt.legend(title='Agent ID')\n",
    "plt.show()"
   ]
  },
  {
   "cell_type": "markdown",
   "metadata": {},
   "source": [
    "## Coalition Analysis\n",
    "\n",
    "Analyze the performance of coalitions formed during the simulation."
   ]
  },
  {
   "cell_type": "code",
   "execution_count": 4,
   "metadata": {
    "collapsed": false
   },
   "outputs": [],
   "source": [
    "# Plotting coalition profits\n",
    "plt.figure(figsize=(12, 6))\n",
    "sns.barplot(data=results_df, x='coalition_id', y='coalition_profit')\n",
    "plt.title('Coalition Profits')\n",
    "plt.xlabel('Coalition ID')\n",
    "plt.ylabel('Profit')\n",
    "plt.xticks(rotation=45)\n",
    "plt.show()"
   ]
  },
  {
   "cell_type": "markdown",
   "metadata": {},
   "source": [
    "## Conclusion\n",
    "\n",
    "Summarize the findings from the analysis and discuss any insights gained from the simulation results."
   ]
  }
 ],
 "metadata": {
  "kernelspec": {
   "display_name": "Python 3",
   "language": "python",
   "name": "python3"
  },
  "language_info": {
   "codemirror_mode": {
    "name": "ipython",
    "version": 3
   },
   "file_extension": ".py",
   "mimetype": "text/x-python",
   "name": "python",
   "nbconvert_exporter": "python",
   "pygments_lexer": "ipython3",
   "version": "3.8.5"
  }
 },
 "nbformat": 4,
 "nbformat_minor": 4
}